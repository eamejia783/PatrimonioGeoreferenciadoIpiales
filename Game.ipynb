{
  "nbformat": 4,
  "nbformat_minor": 0,
  "metadata": {
    "colab": {
      "name": "Game.ipynb",
      "provenance": [],
      "collapsed_sections": [],
      "include_colab_link": true
    },
    "kernelspec": {
      "name": "python3",
      "display_name": "Python 3"
    },
    "language_info": {
      "name": "python"
    }
  },
  "cells": [
    {
      "cell_type": "markdown",
      "metadata": {
        "id": "view-in-github",
        "colab_type": "text"
      },
      "source": [
        "<a href=\"https://colab.research.google.com/github/eamejia783/PatrimonioGeoreferenciadoIpiales/blob/master/Game.ipynb\" target=\"_parent\"><img src=\"https://colab.research.google.com/assets/colab-badge.svg\" alt=\"Open In Colab\"/></a>"
      ]
    },
    {
      "cell_type": "code",
      "source": [
        "from IPython.core.magic import  Magics, magics_class, cell_magic, line_magic\n",
        "\n",
        "@magics_class\n",
        "class Helper(Magics):\n",
        "\n",
        "  def __init__(self, shell=None,  **kwargs):\n",
        "    super().__init__(shell=shell, **kwargs)\n",
        "\n",
        "  @cell_magic\n",
        "  def debug_cell_with_pytutor(self, line, cell):\n",
        "    import urllib.parse\n",
        "    url_src = urllib.parse.quote(cell)\n",
        "    str_begin = '<iframe width=\"1000\" height=\"500\" frameborder=\"0\" src=\"https://pythontutor.com/iframe-embed.html#code='\n",
        "    str_end   = '&cumulative=false&py=3&curInstr=0\"></iframe>'\n",
        "    import IPython\n",
        "    from google.colab import output\n",
        "    display(IPython.display.HTML(str_begin+url_src+str_end))\n",
        "\n",
        "get_ipython().register_magics(Helper)"
      ],
      "metadata": {
        "id": "va6txkj9ut76"
      },
      "execution_count": null,
      "outputs": []
    },
    {
      "cell_type": "markdown",
      "source": [
        "# JUEGO DE ADIVINA PALABRAS\n",
        "\n",
        "> El juego se basa en adivinar una palabra que se genera en forma aleatoria de una lista de palabras\n"
      ],
      "metadata": {
        "id": "GNXjtWr8mZdd"
      }
    },
    {
      "cell_type": "code",
      "execution_count": null,
      "metadata": {
        "id": "9YluLTg2mYcq",
        "colab": {
          "base_uri": "https://localhost:8080/",
          "height": 521
        },
        "outputId": "b0c66616-3598-46b6-b6e3-daf59d6847d5"
      },
      "outputs": [
        {
          "output_type": "display_data",
          "data": {
            "text/plain": [
              "<IPython.core.display.HTML object>"
            ],
            "text/html": [
              "<iframe width=\"1000\" height=\"500\" frameborder=\"0\" src=\"https://pythontutor.com/iframe-embed.html#code=import%20random%0A%0Aimages%20%3D%20%5B%27%27%27%0A%20%20%20%20%2B---%2B%0A%20%20%20%20%7C%20%20%20%7C%0A%20%20%20%20%20%20%20%20%7C%0A%20%20%20%20%20%20%20%20%7C%0A%20%20%20%20%20%20%20%20%7C%0A%20%20%20%20%20%20%20%20%7C%0A%20%20%20%20%20%20%20%20%3D%3D%3D%3D%3D%3D%27%27%27%2C%27%27%27%0A%20%20%20%20%2B---%2B%0A%20%20%20%20%7C%20%20%20%7C%0A%20%20%20%20O%20%20%20%7C%0A%20%20%20%20%20%20%20%20%7C%0A%20%20%20%20%20%20%20%20%7C%0A%20%20%20%20%20%20%20%20%7C%0A%20%20%20%20%20%20%20%20%3D%3D%3D%3D%3D%3D%27%27%27%2C%27%27%27%0A%20%20%20%20%2B---%2B%0A%20%20%20%20%7C%20%20%20%7C%0A%20%20%20%20O%20%20%20%7C%0A%20%20%20%20%7C%20%20%20%7C%0A%20%20%20%20%20%20%20%20%7C%0A%20%20%20%20%20%20%20%20%7C%0A%20%20%20%20%20%20%20%20%3D%3D%3D%3D%3D%3D%27%27%27%2C%27%27%27%0A%20%20%20%20%2B---%2B%0A%20%20%20%20%7C%20%20%20%7C%0A%20%20%20%20O%20%20%20%7C%0A%20%20%20%20%7C%20%20%20%7C%0A%20%20%20/%7C%20%20%20%7C%0A%20%20%20%20%20%20%20%20%7C%0A%20%20%20%20%20%20%20%20%3D%3D%3D%3D%3D%3D%27%27%27%2C%27%27%27%0A%20%20%20%20%2B---%2B%0A%20%20%20%20%7C%20%20%20%7C%0A%20%20%20%20O%20%20%20%7C%0A%20%20%20/%7C%5C%20%20%7C%0A%20%20%20%20%20%20%20%20%7C%0A%20%20%20%20%20%20%20%20%7C%0A%20%20%20%20%20%20%20%20%3D%3D%3D%3D%3D%3D%27%27%27%2C%27%27%27%0A%20%20%20%20%2B---%2B%0A%20%20%20%20%7C%20%20%20%7C%0A%20%20%20%20O%20%20%20%7C%0A%20%20%20/%7C%5C%20%20%7C%0A%20%20%20%20%7C%20%20%20%7C%0A%20%20%20%20%20%20%20%20%7C%0A%20%20%20%20%20%20%20%20%3D%3D%3D%3D%3D%3D%27%27%27%2C%27%27%27%0A%20%20%20%20%2B---%2B%0A%20%20%20%20%7C%20%20%20%7C%0A%20%20%20%20O%20%20%20%7C%0A%20%20%20/%7C%5C%20%20%7C%0A%20%20%20/%7C%20%20%20%7C%0A%20%20%20%20%20%20%20%20%7C%0A%20%20%20%20%20%20%20%20%3D%3D%3D%3D%3D%3D%27%27%27%2C%27%27%27%0A%20%20%20%20%2B---%2B%0A%20%20%20%20%7C%20%20%20%7C%0A%20%20%20%20O%20%20%20%7C%0A%20%20%20/%7C%5C%20%20%7C%0A%20%20%20%20%7C%20%20%20%7C%0A%20%20%20/%20%5C%20%20%7C%0A%20%20%20%20%20%20%20%20%3D%3D%3D%3D%3D%3D%0A%20%20%20%20%20%20%20%20%27%27%27%0A%5D%0A%0Awords%20%3D%20%28%27COLOMBIA%27%2C%0A%20%20%20%20%20%20%20%20%20%27REPUBLICA%27%2C%0A%20%20%20%20%20%20%20%20%20%27VERANO%27%2C%0A%20%20%20%20%20%20%20%20%20%27MISIONTIC%27%2C%0A%20%20%20%20%20%20%20%20%20%27PUBLICIDAD%27%2C%0A%20%20%20%20%20%20%20%20%20%27PROGRAMADOR%27%2C%0A%20%20%20%20%20%20%20%20%20%27PYTHON%27%2C%0A%20%20%20%20%20%20%20%20%20%27SOGAMOSO%27%2C%0A%20%20%20%20%20%20%20%20%20%27COMPUTADOR%27%2C%0A%20%20%20%20%20%20%20%20%20%27DESARROLLANDO%27%2C%0A%20%20%20%20%20%20%20%20%20%27SOFTWARE%27%2C%0A%20%20%20%20%20%20%20%20%20%27PROCESOS%27%29&cumulative=false&py=3&curInstr=0\"></iframe>"
            ]
          },
          "metadata": {}
        }
      ],
      "source": [
        "%%debug_cell_with_pytutor\n",
        "import random\n",
        "\n",
        "images = ['''\n",
        "    +---+\n",
        "    |   |\n",
        "        |\n",
        "        |\n",
        "        |\n",
        "        |\n",
        "        ======''','''\n",
        "    +---+\n",
        "    |   |\n",
        "    O   |\n",
        "        |\n",
        "        |\n",
        "        |\n",
        "        ======''','''\n",
        "    +---+\n",
        "    |   |\n",
        "    O   |\n",
        "    |   |\n",
        "        |\n",
        "        |\n",
        "        ======''','''\n",
        "    +---+\n",
        "    |   |\n",
        "    O   |\n",
        "    |   |\n",
        "   /|   |\n",
        "        |\n",
        "        ======''','''\n",
        "    +---+\n",
        "    |   |\n",
        "    O   |\n",
        "   /|\\  |\n",
        "        |\n",
        "        |\n",
        "        ======''','''\n",
        "    +---+\n",
        "    |   |\n",
        "    O   |\n",
        "   /|\\  |\n",
        "    |   |\n",
        "        |\n",
        "        ======''','''\n",
        "    +---+\n",
        "    |   |\n",
        "    O   |\n",
        "   /|\\  |\n",
        "   /|   |\n",
        "        |\n",
        "        ======''','''\n",
        "    +---+\n",
        "    |   |\n",
        "    O   |\n",
        "   /|\\  |\n",
        "    |   |\n",
        "   / \\  |\n",
        "        ======\n",
        "        '''\n",
        "]\n",
        "\n",
        "words = ('COLOMBIA',\n",
        "         'REPUBLICA',\n",
        "         'VERANO',\n",
        "         'MISIONTIC',\n",
        "         'PUBLICIDAD',\n",
        "         'PROGRAMADOR',\n",
        "         'PYTHON',\n",
        "         'SOGAMOSO',\n",
        "         'COMPUTADOR',\n",
        "         'DESARROLLANDO',\n",
        "         'SOFTWARE',\n",
        "         'PROCESOS')\n"
      ]
    },
    {
      "cell_type": "markdown",
      "source": [
        "Se visualiza una pantalla de Bienvenida"
      ],
      "metadata": {
        "id": "NifeweRHqZUy"
      }
    },
    {
      "cell_type": "code",
      "source": [
        "#                          %%debug_cell_with_pytutor\n",
        "\n",
        "\n",
        "import random\n",
        "\n",
        "images = ['''\n",
        "    +---+\n",
        "    |   |\n",
        "        |\n",
        "        |\n",
        "        |\n",
        "        |\n",
        "        ======''','''\n",
        "    +---+\n",
        "    |   |\n",
        "    O   |\n",
        "        |\n",
        "        |\n",
        "        |\n",
        "        ======''','''\n",
        "    +---+\n",
        "    |   |\n",
        "    O   |\n",
        "    |   |\n",
        "        |\n",
        "        |\n",
        "        ======''','''\n",
        "    +---+\n",
        "    |   |\n",
        "    O   |\n",
        "    |   |\n",
        "   /|   |\n",
        "        |\n",
        "        ======''','''\n",
        "    +---+\n",
        "    |   |\n",
        "    O   |\n",
        "   /|\\  |\n",
        "        |\n",
        "        |\n",
        "        ======''','''\n",
        "    +---+\n",
        "    |   |\n",
        "    O   |\n",
        "   /|\\  |\n",
        "    |   |\n",
        "        |\n",
        "        ======''','''\n",
        "    +---+\n",
        "    |   |\n",
        "    O   |\n",
        "   /|\\  |\n",
        "   /|   |\n",
        "        |\n",
        "        ======''','''\n",
        "    +---+\n",
        "    |   |\n",
        "    O   |\n",
        "   /|\\  |\n",
        "    |   |\n",
        "   / \\  |\n",
        "        ======\n",
        "        '''\n",
        "]\n",
        "\n",
        "words = ('COLOMBIA',\n",
        "         'REPUBLICA',\n",
        "         'VERANO',\n",
        "         'MISIONTIC',\n",
        "         'PUBLICIDAD',\n",
        "         'PROGRAMADOR',\n",
        "         'PYTHON',\n",
        "         'SOGAMOSO',\n",
        "         'COMPUTADOR',\n",
        "         'DESARROLLANDO',\n",
        "         'SOFTWARE',\n",
        "         'PROCESOS')\n",
        "\n",
        "print('B I E N V E N I D A(0)   A L  J U E G O  D E   A D I V I N A R   P A L A B R A S')\n",
        "\n",
        "word = words[random.randrange(len(words))]\n",
        "\n",
        "tries = 0\n",
        "\n",
        "hiddenword = ['-'] * len(word)\n",
        "\n",
        "found = False\n",
        "\n",
        "exit = False\n",
        "\n",
        "while not exit:\n",
        "  print(images[tries])\n",
        "  print('')\n",
        "  print(\"hiddenword\",hiddenword)\n",
        "  print('----*' * 10 )\n",
        "  current_letter = input('Digite una Letra para una palabra de %d caracteres ' % len(word)).upper()\n",
        "  letter_index = []\n",
        "  for i in range(len(word)):\n",
        "    if word[i] == current_letter:\n",
        "      letter_index.append(i)\n",
        "\n",
        "  if len(letter_index) > 0:\n",
        "    for i in letter_index:\n",
        "      print(\"hiddenword[i]\",hiddenword[i])\n",
        "      hiddenword[i] = current_letter\n",
        "  else:\n",
        "    tries += 1\n",
        "    if tries == len(images):\n",
        "      exit = True\n",
        "  \n",
        "  if '-' not in hiddenword:\n",
        "    found = True\n",
        "    exit = True\n",
        "\n",
        "if found:\n",
        "  print('¡¡¡¡EUREKA!!!! - Palabra Encontrada')\n",
        "else:\n",
        "  print(f'La Palabra era %s' % word )\n",
        "\n",
        "\n"
      ],
      "metadata": {
        "colab": {
          "base_uri": "https://localhost:8080/"
        },
        "id": "yw8Ei_vNqe2o",
        "outputId": "bbceb177-8166-4d59-c532-b18e7b423d7e"
      },
      "execution_count": null,
      "outputs": [
        {
          "output_type": "stream",
          "name": "stdout",
          "text": [
            "B I E N V E N I D A(0)   A L  J U E G O  D E   A D I V I N A R   P A L A B R A S\n",
            "\n",
            "    +---+\n",
            "    |   |\n",
            "        |\n",
            "        |\n",
            "        |\n",
            "        |\n",
            "        ======\n",
            "\n",
            "hiddenword ['-', '-', '-', '-', '-', '-']\n",
            "----*----*----*----*----*----*----*----*----*----*\n"
          ]
        }
      ]
    }
  ]
}